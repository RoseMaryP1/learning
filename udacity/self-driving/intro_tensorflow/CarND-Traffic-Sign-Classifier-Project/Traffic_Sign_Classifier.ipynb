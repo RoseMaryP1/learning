{
 "cells": [
  {
   "cell_type": "markdown",
   "metadata": {
    "deletable": true,
    "editable": true
   },
   "source": [
    "# Self-Driving Car Engineer Nanodegree\n",
    "\n",
    "## Deep Learning\n",
    "\n",
    "## Project: Build a Traffic Sign Recognition Classifier\n",
    "\n",
    "In this notebook, a template is provided for you to implement your functionality in stages, which is required to successfully complete this project. If additional code is required that cannot be included in the notebook, be sure that the Python code is successfully imported and included in your submission if necessary. \n",
    "\n",
    "> **Note**: Once you have completed all of the code implementations, you need to finalize your work by exporting the iPython Notebook as an HTML document. Before exporting the notebook to html, all of the code cells need to have been run so that reviewers can see the final implementation and output. You can then export the notebook by using the menu above and navigating to  \\n\",\n",
    "    \"**File -> Download as -> HTML (.html)**. Include the finished document along with this notebook as your submission. \n",
    "\n",
    "In addition to implementing code, there is a writeup to complete. The writeup should be completed in a separate file, which can be either a markdown file or a pdf document. There is a [write up template](https://github.com/udacity/CarND-Traffic-Sign-Classifier-Project/blob/master/writeup_template.md) that can be used to guide the writing process. Completing the code template and writeup template will cover all of the [rubric points](https://review.udacity.com/#!/rubrics/481/view) for this project.\n",
    "\n",
    "The [rubric](https://review.udacity.com/#!/rubrics/481/view) contains \"Stand Out Suggestions\" for enhancing the project beyond the minimum requirements. The stand out suggestions are optional. If you decide to pursue the \"stand out suggestions\", you can include the code in this Ipython notebook and also discuss the results in the writeup file.\n",
    "\n",
    "\n",
    ">**Note:** Code and Markdown cells can be executed using the **Shift + Enter** keyboard shortcut. In addition, Markdown cells can be edited by typically double-clicking the cell to enter edit mode."
   ]
  },
  {
   "cell_type": "markdown",
   "metadata": {
    "deletable": true,
    "editable": true
   },
   "source": [
    "---\n",
    "## Step 0: Load The Data"
   ]
  },
  {
   "cell_type": "code",
   "execution_count": 1,
   "metadata": {
    "collapsed": false,
    "deletable": true,
    "editable": true
   },
   "outputs": [],
   "source": [
    "# Load pickled data\n",
    "import pickle\n",
    "\n",
    "# TODO: Fill this in based on where you saved the training and testing data\n",
    "\n",
    "training_file = './data/train.p'\n",
    "validation_file= './data/valid.p'\n",
    "testing_file = './data/test.p'\n",
    "\n",
    "with open(training_file, mode='rb') as f:\n",
    "    train = pickle.load(f)\n",
    "with open(validation_file, mode='rb') as f:\n",
    "    valid = pickle.load(f)\n",
    "with open(testing_file, mode='rb') as f:\n",
    "    test = pickle.load(f)\n",
    "    \n",
    "X_train, y_train = train['features'], train['labels']\n",
    "X_valid, y_valid = valid['features'], valid['labels']\n",
    "X_test, y_test = test['features'], test['labels']"
   ]
  },
  {
   "cell_type": "markdown",
   "metadata": {
    "deletable": true,
    "editable": true
   },
   "source": [
    "---\n",
    "\n",
    "## Step 1: Dataset Summary & Exploration\n",
    "\n",
    "The pickled data is a dictionary with 4 key/value pairs:\n",
    "\n",
    "- `'features'` is a 4D array containing raw pixel data of the traffic sign images, (num examples, width, height, channels).\n",
    "- `'labels'` is a 1D array containing the label/class id of the traffic sign. The file `signnames.csv` contains id -> name mappings for each id.\n",
    "- `'sizes'` is a list containing tuples, (width, height) representing the original width and height the image.\n",
    "- `'coords'` is a list containing tuples, (x1, y1, x2, y2) representing coordinates of a bounding box around the sign in the image. **THESE COORDINATES ASSUME THE ORIGINAL IMAGE. THE PICKLED DATA CONTAINS RESIZED VERSIONS (32 by 32) OF THESE IMAGES**\n",
    "\n",
    "Complete the basic data summary below. Use python, numpy and/or pandas methods to calculate the data summary rather than hard coding the results. For example, the [pandas shape method](http://pandas.pydata.org/pandas-docs/stable/generated/pandas.DataFrame.shape.html) might be useful for calculating some of the summary results. "
   ]
  },
  {
   "cell_type": "markdown",
   "metadata": {
    "deletable": true,
    "editable": true
   },
   "source": [
    "### Provide a Basic Summary of the Data Set Using Python, Numpy and/or Pandas"
   ]
  },
  {
   "cell_type": "code",
   "execution_count": 2,
   "metadata": {
    "collapsed": false,
    "deletable": true,
    "editable": true
   },
   "outputs": [
    {
     "name": "stdout",
     "output_type": "stream",
     "text": [
      "Number of training examples = 34799\n",
      "Number of testing examples = 12630\n",
      "Image data shape = (32, 32, 3)\n",
      "Number of classes = 43\n"
     ]
    }
   ],
   "source": [
    "### Replace each question mark with the appropriate value. \n",
    "### Use python, pandas or numpy methods rather than hard coding the results\n",
    "import numpy as np\n",
    "\n",
    "# TODO: Number of training examples\n",
    "n_train = len(y_train)\n",
    "\n",
    "# TODO: Number of testing examples.\n",
    "n_test = len(y_test)\n",
    "\n",
    "# TODO: What's the shape of an traffic sign image?\n",
    "image_shape = X_test[0].shape\n",
    "\n",
    "# TODO: How many unique classes/labels there are in the dataset.\n",
    "n_classes = len(np.unique(y_train))\n",
    "\n",
    "print(\"Number of training examples =\", n_train)\n",
    "print(\"Number of testing examples =\", n_test)\n",
    "print(\"Image data shape =\", image_shape)\n",
    "print(\"Number of classes =\", n_classes)"
   ]
  },
  {
   "cell_type": "markdown",
   "metadata": {
    "deletable": true,
    "editable": true
   },
   "source": [
    "### Include an exploratory visualization of the dataset"
   ]
  },
  {
   "cell_type": "markdown",
   "metadata": {
    "deletable": true,
    "editable": true
   },
   "source": [
    "Visualize the German Traffic Signs Dataset using the pickled file(s). This is open ended, suggestions include: plotting traffic sign images, plotting the count of each sign, etc.\n",
    "\n",
    "The [Matplotlib](http://matplotlib.org/) [examples](http://matplotlib.org/examples/index.html) and [gallery](http://matplotlib.org/gallery.html) pages are a great resource for doing visualizations in Python.\n",
    "\n",
    "**NOTE:** It's recommended you start with something simple first. If you wish to do more, come back to it after you've completed the rest of the sections."
   ]
  },
  {
   "cell_type": "code",
   "execution_count": 3,
   "metadata": {
    "collapsed": false,
    "deletable": true,
    "editable": true
   },
   "outputs": [
    {
     "name": "stdout",
     "output_type": "stream",
     "text": [
      "    ClassId                                           SignName  ClassCount\n",
      "0         0                               Speed limit (20km/h)         180\n",
      "1         1                               Speed limit (30km/h)        1980\n",
      "2         2                               Speed limit (50km/h)        2010\n",
      "3         3                               Speed limit (60km/h)        1260\n",
      "4         4                               Speed limit (70km/h)        1770\n",
      "5         5                               Speed limit (80km/h)        1650\n",
      "6         6                        End of speed limit (80km/h)         360\n",
      "7         7                              Speed limit (100km/h)        1290\n",
      "8         8                              Speed limit (120km/h)        1260\n",
      "9         9                                         No passing        1320\n",
      "10       10       No passing for vehicles over 3.5 metric tons        1800\n",
      "11       11              Right-of-way at the next intersection        1170\n",
      "12       12                                      Priority road        1890\n",
      "13       13                                              Yield        1920\n",
      "14       14                                               Stop         690\n",
      "15       15                                        No vehicles         540\n",
      "16       16           Vehicles over 3.5 metric tons prohibited         360\n",
      "17       17                                           No entry         990\n",
      "18       18                                    General caution        1080\n",
      "19       19                        Dangerous curve to the left         180\n",
      "20       20                       Dangerous curve to the right         300\n",
      "21       21                                       Double curve         270\n",
      "22       22                                         Bumpy road         330\n",
      "23       23                                      Slippery road         450\n",
      "24       24                          Road narrows on the right         240\n",
      "25       25                                          Road work        1350\n",
      "26       26                                    Traffic signals         540\n",
      "27       27                                        Pedestrians         210\n",
      "28       28                                  Children crossing         480\n",
      "29       29                                  Bicycles crossing         240\n",
      "30       30                                 Beware of ice/snow         390\n",
      "31       31                              Wild animals crossing         690\n",
      "32       32                End of all speed and passing limits         210\n",
      "33       33                                   Turn right ahead         599\n",
      "34       34                                    Turn left ahead         360\n",
      "35       35                                         Ahead only        1080\n",
      "36       36                               Go straight or right         330\n",
      "37       37                                Go straight or left         180\n",
      "38       38                                         Keep right        1860\n",
      "39       39                                          Keep left         270\n",
      "40       40                               Roundabout mandatory         300\n",
      "41       41                                  End of no passing         210\n",
      "42       42  End of no passing by vehicles over 3.5 metric ...         210\n"
     ]
    }
   ],
   "source": [
    "### Data exploration visualization code goes here.\n",
    "### Feel free to use as many code cells as needed.\n",
    "import matplotlib.pyplot as plt\n",
    "# Visualizations will be shown in the notebook.\n",
    "%matplotlib inline\n",
    "\n",
    "import pandas as pd\n",
    "\n",
    "\n",
    "\n",
    "\n",
    "def plot_img(img, title=\"\"):\n",
    "    if len(img.shape) == 3 and img.shape[2] == 3:\n",
    "        cmap = 'viridis'\n",
    "    else:\n",
    "        cmap = 'gray'\n",
    "    fig = plt.figure()\n",
    "    t  = fig.text(0.5, 0.95, title,\n",
    "         horizontalalignment='center')\n",
    "    plt.imshow(img, cmap=cmap)\n",
    "\n",
    "# Gather some statistics of our class labels, like the counts.\n",
    "with open(\"./signnames.csv\") as f:\n",
    "    class_labels = pd.read_csv(f)\n",
    "category_counts = np.unique(y_train, return_counts=True)\n",
    "c = pd.DataFrame({'ClassId': category_counts[0], \"ClassCount\": category_counts[1]})\n",
    "class_labels = class_labels.merge(c)\n",
    "\n",
    "print(class_labels)\n",
    "#class_labels.mergenp.Dataframe)categories[1], )\n",
    "#fig = plt.figure()\n",
    "#p = plt.hist(y_train, bins=len(categories[0]), \n",
    "         #label=class_labels[\"SignName\"])\n",
    "\n",
    "#class_labels\n",
    "    "
   ]
  },
  {
   "cell_type": "code",
   "execution_count": 4,
   "metadata": {
    "collapsed": false,
    "deletable": true,
    "editable": true
   },
   "outputs": [
    {
     "data": {
      "text/plain": [
       "<matplotlib.axes._subplots.AxesSubplot at 0x7fe0b0317400>"
      ]
     },
     "execution_count": 4,
     "metadata": {},
     "output_type": "execute_result"
    },
    {
     "data": {
      "image/png": "[encoded data removed]",
      "text/plain": [
       "<matplotlib.figure.Figure at 0x7fe0b0385e10>"
      ]
     },
     "metadata": {},
     "output_type": "display_data"
    }
   ],
   "source": [
    "class_labels[\"ClassCount\"].plot(title=\"Training Examples per Sign Class\")"
   ]
  },
  {
   "cell_type": "markdown",
   "metadata": {
    "deletable": true,
    "editable": true
   },
   "source": [
    "----\n",
    "\n",
    "## Step 2: Design and Test a Model Architecture\n",
    "\n",
    "Design and implement a deep learning model that learns to recognize traffic signs. Train and test your model on the [German Traffic Sign Dataset](http://benchmark.ini.rub.de/?section=gtsrb&subsection=dataset).\n",
    "\n",
    "The LeNet-5 implementation shown in the [classroom](https://classroom.udacity.com/nanodegrees/nd013/parts/fbf77062-5703-404e-b60c-95b78b2f3f9e/modules/6df7ae49-c61c-4bb2-a23e-6527e69209ec/lessons/601ae704-1035-4287-8b11-e2c2716217ad/concepts/d4aca031-508f-4e0b-b493-e7b706120f81) at the end of the CNN lesson is a solid starting point. You'll have to change the number of classes and possibly the preprocessing, but aside from that it's plug and play! \n",
    "\n",
    "With the LeNet-5 solution from the lecture, you should expect a validation set accuracy of about 0.89. To meet specifications, the validation set accuracy will need to be at least 0.93. It is possible to get an even higher accuracy, but 0.93 is the minimum for a successful project submission. \n",
    "\n",
    "There are various aspects to consider when thinking about this problem:\n",
    "\n",
    "- Neural network architecture (is the network over or underfitting?)\n",
    "- Play around preprocessing techniques (normalization, rgb to grayscale, etc)\n",
    "- Number of examples per label (some have more than others).\n",
    "- Generate fake data.\n",
    "\n",
    "Here is an example of a [published baseline model on this problem](http://yann.lecun.com/exdb/publis/pdf/sermanet-ijcnn-11.pdf). It's not required to be familiar with the approach used in the paper but, it's good practice to try to read papers like these."
   ]
  },
  {
   "cell_type": "markdown",
   "metadata": {
    "deletable": true,
    "editable": true
   },
   "source": [
    "### Pre-process the Data Set (normalization, grayscale, etc.)"
   ]
  },
  {
   "cell_type": "markdown",
   "metadata": {
    "deletable": true,
    "editable": true
   },
   "source": [
    "Use the code cell (or multiple code cells, if necessary) to implement the first step of your project."
   ]
  },
  {
   "cell_type": "code",
   "execution_count": 5,
   "metadata": {
    "collapsed": false,
    "deletable": true,
    "editable": true
   },
   "outputs": [],
   "source": [
    "from sklearn.utils import shuffle\n",
    "### Preprocess the data here. Preprocessing steps could include normalization, converting to grayscale, etc.\n",
    "### Feel free to use as many code cells as needed\n",
    "def preprocess_imgs(X):\n",
    "    #TODO: http://yann.lecun.com/exdb/publis/pdf/sermanet-ijcnn-11.pdf\n",
    "    #TODO: Shuffle Data (See LeNet)\n",
    "    #a = .1\n",
    "    #b = .9\n",
    "    #X = a + ()\n",
    "    # Fairly dumb conversion here.\n",
    "    \n",
    "    return X / 255.\n",
    "\n",
    "\n",
    "X_train = preprocess_imgs(X_train)\n",
    "X_valid = preprocess_imgs(X_valid)\n",
    "X_test = preprocess_imgs(X_test)\n"
   ]
  },
  {
   "cell_type": "code",
   "execution_count": 6,
   "metadata": {
    "collapsed": false,
    "deletable": true,
    "editable": true
   },
   "outputs": [
    {
     "data": {
      "text/plain": [
       "array([[[[ 0.10980392,  0.09803922,  0.09411765],\n",
       "         [ 0.10588235,  0.09411765,  0.09019608],\n",
       "         [ 0.10588235,  0.09411765,  0.08627451],\n",
       "         ..., \n",
       "         [ 0.1254902 ,  0.10980392,  0.09411765],\n",
       "         [ 0.12156863,  0.10588235,  0.09803922],\n",
       "         [ 0.12156863,  0.10588235,  0.10196078]],\n",
       "\n",
       "        [[ 0.11372549,  0.10196078,  0.09803922],\n",
       "         [ 0.10588235,  0.09803922,  0.09019608],\n",
       "         [ 0.10588235,  0.09803922,  0.09019608],\n",
       "         ..., \n",
       "         [ 0.1254902 ,  0.10980392,  0.09411765],\n",
       "         [ 0.12156863,  0.10588235,  0.09411765],\n",
       "         [ 0.11764706,  0.10588235,  0.09803922]],\n",
       "\n",
       "        [[ 0.10980392,  0.10196078,  0.10196078],\n",
       "         [ 0.10588235,  0.09803922,  0.09019608],\n",
       "         [ 0.10196078,  0.09803922,  0.09019608],\n",
       "         ..., \n",
       "         [ 0.1254902 ,  0.10980392,  0.09411765],\n",
       "         [ 0.12156863,  0.10588235,  0.09411765],\n",
       "         [ 0.11764706,  0.10588235,  0.09803922]],\n",
       "\n",
       "        ..., \n",
       "        [[ 0.10588235,  0.09411765,  0.09019608],\n",
       "         [ 0.10980392,  0.09803922,  0.09411765],\n",
       "         [ 0.11764706,  0.09803922,  0.09411765],\n",
       "         ..., \n",
       "         [ 0.10588235,  0.09411765,  0.09019608],\n",
       "         [ 0.10980392,  0.09411765,  0.08627451],\n",
       "         [ 0.11372549,  0.09803922,  0.08627451]],\n",
       "\n",
       "        [[ 0.10980392,  0.09019608,  0.09019608],\n",
       "         [ 0.11372549,  0.09411765,  0.09411765],\n",
       "         [ 0.12156863,  0.09803922,  0.09411765],\n",
       "         ..., \n",
       "         [ 0.10588235,  0.09411765,  0.09019608],\n",
       "         [ 0.10980392,  0.09411765,  0.08627451],\n",
       "         [ 0.10980392,  0.09411765,  0.08235294]],\n",
       "\n",
       "        [[ 0.11372549,  0.09019608,  0.09019608],\n",
       "         [ 0.11764706,  0.09411765,  0.09411765],\n",
       "         [ 0.1254902 ,  0.09411765,  0.09019608],\n",
       "         ..., \n",
       "         [ 0.10588235,  0.09411765,  0.08627451],\n",
       "         [ 0.10588235,  0.09019608,  0.08235294],\n",
       "         [ 0.10196078,  0.08627451,  0.07843137]]],\n",
       "\n",
       "\n",
       "       [[[ 0.10980392,  0.09411765,  0.09411765],\n",
       "         [ 0.10196078,  0.09019608,  0.09019608],\n",
       "         [ 0.10588235,  0.09411765,  0.09411765],\n",
       "         ..., \n",
       "         [ 0.12156863,  0.10980392,  0.10196078],\n",
       "         [ 0.12156863,  0.10980392,  0.10588235],\n",
       "         [ 0.1254902 ,  0.10980392,  0.10588235]],\n",
       "\n",
       "        [[ 0.10588235,  0.09411765,  0.09411765],\n",
       "         [ 0.10588235,  0.09411765,  0.09411765],\n",
       "         [ 0.10980392,  0.09803922,  0.09411765],\n",
       "         ..., \n",
       "         [ 0.12156863,  0.10588235,  0.09803922],\n",
       "         [ 0.12156863,  0.10588235,  0.10196078],\n",
       "         [ 0.12941176,  0.11372549,  0.10588235]],\n",
       "\n",
       "        [[ 0.10196078,  0.09411765,  0.09411765],\n",
       "         [ 0.10196078,  0.09411765,  0.09411765],\n",
       "         [ 0.10588235,  0.09411765,  0.09019608],\n",
       "         ..., \n",
       "         [ 0.12156863,  0.10196078,  0.09803922],\n",
       "         [ 0.12156863,  0.10588235,  0.10196078],\n",
       "         [ 0.12941176,  0.11372549,  0.10588235]],\n",
       "\n",
       "        ..., \n",
       "        [[ 0.10980392,  0.09803922,  0.09019608],\n",
       "         [ 0.11764706,  0.10588235,  0.09411765],\n",
       "         [ 0.11764706,  0.10588235,  0.09411765],\n",
       "         ..., \n",
       "         [ 0.10588235,  0.09411765,  0.08627451],\n",
       "         [ 0.10588235,  0.09411765,  0.08627451],\n",
       "         [ 0.10980392,  0.09411765,  0.08627451]],\n",
       "\n",
       "        [[ 0.10588235,  0.09411765,  0.08627451],\n",
       "         [ 0.11372549,  0.10196078,  0.09019608],\n",
       "         [ 0.12156863,  0.10196078,  0.09411765],\n",
       "         ..., \n",
       "         [ 0.10196078,  0.09019608,  0.08235294],\n",
       "         [ 0.10588235,  0.09411765,  0.08627451],\n",
       "         [ 0.10980392,  0.09803922,  0.09019608]],\n",
       "\n",
       "        [[ 0.10980392,  0.09411765,  0.09019608],\n",
       "         [ 0.10980392,  0.09411765,  0.08627451],\n",
       "         [ 0.11372549,  0.09411765,  0.08627451],\n",
       "         ..., \n",
       "         [ 0.10588235,  0.09019608,  0.08627451],\n",
       "         [ 0.10588235,  0.09411765,  0.09019608],\n",
       "         [ 0.11372549,  0.10196078,  0.09803922]]],\n",
       "\n",
       "\n",
       "       [[[ 0.11372549,  0.09803922,  0.09803922],\n",
       "         [ 0.11372549,  0.10196078,  0.10196078],\n",
       "         [ 0.11764706,  0.10588235,  0.10588235],\n",
       "         ..., \n",
       "         [ 0.12156863,  0.10588235,  0.09411765],\n",
       "         [ 0.12156863,  0.10980392,  0.09803922],\n",
       "         [ 0.1254902 ,  0.11372549,  0.10588235]],\n",
       "\n",
       "        [[ 0.10588235,  0.09411765,  0.09411765],\n",
       "         [ 0.10588235,  0.09803922,  0.09803922],\n",
       "         [ 0.10980392,  0.10196078,  0.10196078],\n",
       "         ..., \n",
       "         [ 0.12156863,  0.10588235,  0.09019608],\n",
       "         [ 0.1254902 ,  0.10980392,  0.09803922],\n",
       "         [ 0.12941176,  0.11764706,  0.10588235]],\n",
       "\n",
       "        [[ 0.10588235,  0.09411765,  0.09411765],\n",
       "         [ 0.10980392,  0.10196078,  0.10196078],\n",
       "         [ 0.11372549,  0.10588235,  0.10588235],\n",
       "         ..., \n",
       "         [ 0.1254902 ,  0.10980392,  0.09411765],\n",
       "         [ 0.1254902 ,  0.10980392,  0.09411765],\n",
       "         [ 0.12941176,  0.11372549,  0.10196078]],\n",
       "\n",
       "        ..., \n",
       "        [[ 0.10980392,  0.10196078,  0.08627451],\n",
       "         [ 0.11372549,  0.10196078,  0.08235294],\n",
       "         [ 0.12156863,  0.10196078,  0.08627451],\n",
       "         ..., \n",
       "         [ 0.11372549,  0.09411765,  0.08235294],\n",
       "         [ 0.10980392,  0.09019608,  0.07843137],\n",
       "         [ 0.10980392,  0.09019608,  0.08627451]],\n",
       "\n",
       "        [[ 0.10588235,  0.10196078,  0.09019608],\n",
       "         [ 0.10980392,  0.09803922,  0.08235294],\n",
       "         [ 0.11764706,  0.09803922,  0.08627451],\n",
       "         ..., \n",
       "         [ 0.10980392,  0.09019608,  0.08235294],\n",
       "         [ 0.10588235,  0.08627451,  0.07843137],\n",
       "         [ 0.10980392,  0.09411765,  0.08627451]],\n",
       "\n",
       "        [[ 0.11372549,  0.10196078,  0.09019608],\n",
       "         [ 0.10980392,  0.09411765,  0.08235294],\n",
       "         [ 0.11372549,  0.09411765,  0.08235294],\n",
       "         ..., \n",
       "         [ 0.11372549,  0.09803922,  0.09019608],\n",
       "         [ 0.10980392,  0.09411765,  0.08627451],\n",
       "         [ 0.11764706,  0.10196078,  0.09411765]]],\n",
       "\n",
       "\n",
       "       ..., \n",
       "       [[[ 0.2       ,  0.2627451 ,  0.3372549 ],\n",
       "         [ 0.21568627,  0.23137255,  0.27843137],\n",
       "         [ 0.29411765,  0.31764706,  0.36078431],\n",
       "         ..., \n",
       "         [ 0.98039216,  0.97254902,  0.95294118],\n",
       "         [ 0.81176471,  0.83137255,  0.91372549],\n",
       "         [ 0.4745098 ,  0.45490196,  0.54901961]],\n",
       "\n",
       "        [[ 0.1372549 ,  0.16470588,  0.19215686],\n",
       "         [ 0.18823529,  0.18431373,  0.2       ],\n",
       "         [ 0.35686275,  0.37647059,  0.44313725],\n",
       "         ..., \n",
       "         [ 0.8627451 ,  0.87843137,  0.88627451],\n",
       "         [ 0.6627451 ,  0.69411765,  0.73333333],\n",
       "         [ 0.32941176,  0.34117647,  0.39215686]],\n",
       "\n",
       "        [[ 0.10588235,  0.10196078,  0.11372549],\n",
       "         [ 0.16078431,  0.14901961,  0.15294118],\n",
       "         [ 0.21568627,  0.25098039,  0.30588235],\n",
       "         ..., \n",
       "         [ 0.47843137,  0.56078431,  0.62745098],\n",
       "         [ 0.38039216,  0.40784314,  0.50588235],\n",
       "         [ 0.23137255,  0.23137255,  0.21960784]],\n",
       "\n",
       "        ..., \n",
       "        [[ 0.09411765,  0.09019608,  0.10588235],\n",
       "         [ 0.08235294,  0.07843137,  0.10588235],\n",
       "         [ 0.07843137,  0.0745098 ,  0.08627451],\n",
       "         ..., \n",
       "         [ 0.29803922,  0.30980392,  0.3254902 ],\n",
       "         [ 0.21176471,  0.25098039,  0.30196078],\n",
       "         [ 0.17647059,  0.2       ,  0.25490196]],\n",
       "\n",
       "        [[ 0.12156863,  0.12156863,  0.12941176],\n",
       "         [ 0.08627451,  0.09019608,  0.11372549],\n",
       "         [ 0.07843137,  0.07058824,  0.08235294],\n",
       "         ..., \n",
       "         [ 0.25882353,  0.2627451 ,  0.32941176],\n",
       "         [ 0.21960784,  0.25490196,  0.29019608],\n",
       "         [ 0.17647059,  0.21568627,  0.28627451]],\n",
       "\n",
       "        [[ 0.10980392,  0.10980392,  0.11764706],\n",
       "         [ 0.08627451,  0.08235294,  0.09803922],\n",
       "         [ 0.0745098 ,  0.07058824,  0.0745098 ],\n",
       "         ..., \n",
       "         [ 0.2627451 ,  0.24705882,  0.29803922],\n",
       "         [ 0.15294118,  0.17647059,  0.21568627],\n",
       "         [ 0.1254902 ,  0.14509804,  0.18431373]]],\n",
       "\n",
       "\n",
       "       [[[ 0.32156863,  0.30588235,  0.37647059],\n",
       "         [ 0.47058824,  0.49411765,  0.58039216],\n",
       "         [ 0.43921569,  0.49019608,  0.57254902],\n",
       "         ..., \n",
       "         [ 0.7254902 ,  0.71372549,  0.69411765],\n",
       "         [ 0.8       ,  0.82352941,  0.84313725],\n",
       "         [ 0.51764706,  0.44705882,  0.4745098 ]],\n",
       "\n",
       "        [[ 0.29019608,  0.30196078,  0.36470588],\n",
       "         [ 0.67058824,  0.68235294,  0.7254902 ],\n",
       "         [ 0.5372549 ,  0.64313725,  0.72156863],\n",
       "         ..., \n",
       "         [ 0.70588235,  0.70980392,  0.73333333],\n",
       "         [ 0.77647059,  0.78431373,  0.83529412],\n",
       "         [ 0.30980392,  0.33333333,  0.33333333]],\n",
       "\n",
       "        [[ 0.21176471,  0.19607843,  0.21960784],\n",
       "         [ 0.39215686,  0.41568627,  0.4627451 ],\n",
       "         [ 0.45882353,  0.51764706,  0.61960784],\n",
       "         ..., \n",
       "         [ 0.61568627,  0.6       ,  0.62745098],\n",
       "         [ 0.69019608,  0.71764706,  0.78039216],\n",
       "         [ 0.34509804,  0.31372549,  0.32156863]],\n",
       "\n",
       "        ..., \n",
       "        [[ 0.08627451,  0.08235294,  0.08627451],\n",
       "         [ 0.07843137,  0.0745098 ,  0.0745098 ],\n",
       "         [ 0.07058824,  0.0627451 ,  0.0745098 ],\n",
       "         ..., \n",
       "         [ 0.19607843,  0.19607843,  0.23529412],\n",
       "         [ 0.14509804,  0.16862745,  0.20392157],\n",
       "         [ 0.11764706,  0.16078431,  0.23137255]],\n",
       "\n",
       "        [[ 0.07058824,  0.0627451 ,  0.07058824],\n",
       "         [ 0.0745098 ,  0.06666667,  0.07058824],\n",
       "         [ 0.0745098 ,  0.07058824,  0.08235294],\n",
       "         ..., \n",
       "         [ 0.14117647,  0.17254902,  0.23529412],\n",
       "         [ 0.12941176,  0.14117647,  0.18823529],\n",
       "         [ 0.14117647,  0.16862745,  0.23921569]],\n",
       "\n",
       "        [[ 0.07058824,  0.06666667,  0.07843137],\n",
       "         [ 0.08235294,  0.07843137,  0.09019608],\n",
       "         [ 0.09411765,  0.08627451,  0.09803922],\n",
       "         ..., \n",
       "         [ 0.1254902 ,  0.13333333,  0.16078431],\n",
       "         [ 0.17647059,  0.16470588,  0.18823529],\n",
       "         [ 0.16078431,  0.16862745,  0.20392157]]],\n",
       "\n",
       "\n",
       "       [[[ 0.27058824,  0.30980392,  0.37647059],\n",
       "         [ 0.09411765,  0.10196078,  0.10980392],\n",
       "         [ 0.15686275,  0.16470588,  0.17647059],\n",
       "         ..., \n",
       "         [ 0.88235294,  0.91764706,  0.92941176],\n",
       "         [ 0.59215686,  0.63137255,  0.65098039],\n",
       "         [ 0.64313725,  0.63529412,  0.6627451 ]],\n",
       "\n",
       "        [[ 0.38823529,  0.43137255,  0.49019608],\n",
       "         [ 0.14117647,  0.16078431,  0.18431373],\n",
       "         [ 0.24705882,  0.21960784,  0.24313725],\n",
       "         ..., \n",
       "         [ 0.77254902,  0.84705882,  0.87843137],\n",
       "         [ 0.60392157,  0.63921569,  0.6627451 ],\n",
       "         [ 0.64313725,  0.63921569,  0.62352941]],\n",
       "\n",
       "        [[ 0.40784314,  0.41960784,  0.44313725],\n",
       "         [ 0.13333333,  0.14509804,  0.15686275],\n",
       "         [ 0.28235294,  0.2745098 ,  0.30196078],\n",
       "         ..., \n",
       "         [ 0.8745098 ,  0.92941176,  0.92156863],\n",
       "         [ 0.70980392,  0.75294118,  0.77647059],\n",
       "         [ 0.65098039,  0.65490196,  0.62352941]],\n",
       "\n",
       "        ..., \n",
       "        [[ 0.08235294,  0.07843137,  0.09019608],\n",
       "         [ 0.09019608,  0.09411765,  0.11764706],\n",
       "         [ 0.0745098 ,  0.07843137,  0.09411765],\n",
       "         ..., \n",
       "         [ 0.17647059,  0.18431373,  0.21176471],\n",
       "         [ 0.22745098,  0.24313725,  0.2745098 ],\n",
       "         [ 0.22745098,  0.2745098 ,  0.32156863]],\n",
       "\n",
       "        [[ 0.07058824,  0.06666667,  0.08235294],\n",
       "         [ 0.0745098 ,  0.0745098 ,  0.09411765],\n",
       "         [ 0.07058824,  0.07058824,  0.09019608],\n",
       "         ..., \n",
       "         [ 0.14117647,  0.14117647,  0.15686275],\n",
       "         [ 0.22745098,  0.23137255,  0.2745098 ],\n",
       "         [ 0.23921569,  0.27058824,  0.31764706]],\n",
       "\n",
       "        [[ 0.06666667,  0.0627451 ,  0.0745098 ],\n",
       "         [ 0.0627451 ,  0.05882353,  0.07058824],\n",
       "         [ 0.0627451 ,  0.05882353,  0.07058824],\n",
       "         ..., \n",
       "         [ 0.15686275,  0.15686275,  0.17254902],\n",
       "         [ 0.22352941,  0.24313725,  0.28627451],\n",
       "         [ 0.22352941,  0.26666667,  0.31372549]]]])"
      ]
     },
     "execution_count": 6,
     "metadata": {},
     "output_type": "execute_result"
    }
   ],
   "source": [
    "X_train"
   ]
  },
  {
   "cell_type": "markdown",
   "metadata": {
    "deletable": true,
    "editable": true
   },
   "source": [
    "### Model Architecture"
   ]
  },
  {
   "cell_type": "code",
   "execution_count": 7,
   "metadata": {
    "collapsed": true,
    "deletable": true,
    "editable": true
   },
   "outputs": [],
   "source": [
    "### Define your architecture here.\n",
    "### Feel free to use as many code cells as needed.\n",
    "import tensorflow as tf\n",
    "\n",
    "EPOCHS = 15\n",
    "BATCH_SIZE = 128"
   ]
  },
  {
   "cell_type": "code",
   "execution_count": 8,
   "metadata": {
    "collapsed": true,
    "deletable": true,
    "editable": true
   },
   "outputs": [],
   "source": [
    "from tensorflow.contrib.layers import flatten\n",
    "\n",
    "def LeNet(x, dropout):    \n",
    "    # Arguments used for tf.truncated_normal, randomly defines variables for the weights and biases for each layer\n",
    "    mu = 0\n",
    "    sigma = 0.1\n",
    "\n",
    "    \n",
    "    # TODO: Layer 1: Convolutional. Input = 32x32x3. Output = 28x28x6.\n",
    "    l1_filter_w = tf.Variable(tf.truncated_normal([5, 5, 3, 6], mean=mu, stddev=sigma), name='l1_filter_w')\n",
    "    l1_b = tf.Variable(tf.zeros(6), name='l1_b')\n",
    "    l1_conv_strides = [1, 1, 1, 1] #VALID new dims = ceil(float(in_height - filter_height + 1) / float(strides[1]))\n",
    "    l1_conv = tf.nn.bias_add(tf.nn.conv2d(x, l1_filter_w, strides=l1_conv_strides, padding='VALID'), l1_b)\n",
    "\n",
    "    # TODO: Activation.\n",
    "    l1_act = tf.nn.relu(l1_conv)\n",
    "    \n",
    "    # TODO: Pooling. Input = 28x28x6. Output = 14x14x6.\n",
    "    l1_pool_strides = [1, 2, 2, 1] # stride for each dimension (batch_size, height, width, depth)\n",
    "    l1_pool_ksize = [1, 2, 2, 1] # ksize (filter size) for each dimension (batch_size, height, width, depth)\n",
    "    l1_pool = tf.nn.max_pool(l1_act, strides=l1_pool_strides, ksize=l1_pool_ksize, padding='VALID')\n",
    "    \n",
    "    # TODO: Layer 2: Convolutional. Output = 10x10x16.\n",
    "    l2_filter_w = tf.Variable(tf.truncated_normal([5, 5, 6, 16], mean=mu, stddev=sigma), name='l2_filter_w')\n",
    "    l2_b = tf.Variable(tf.zeros(16), name='l2_b')\n",
    "    l2_conv_strides = [1, 1, 1, 1] #VALID new dims = ceil(float(in_height - filter_height + 1) / float(strides[1]))\n",
    "    l2_conv = tf.nn.bias_add(tf.nn.conv2d(l1_pool, l2_filter_w, strides=l2_conv_strides, padding='VALID'), l2_b)\n",
    "    \n",
    "    # TODO: Activation.\n",
    "    l2_act = tf.nn.relu(l2_conv)\n",
    "\n",
    "    # TODO: Pooling. Input = 10x10x16. Output = 5x5x16.\n",
    "    l2_pool_strides = [1, 2, 2, 1] # stride for each dimension (batch_size, height, width, depth)\n",
    "    l2_pool_ksize = [1, 2, 2, 1] # ksize (filter size) for each dimension (batch_size, height, width, depth)\n",
    "    l2_pool = tf.nn.max_pool(l2_act, strides=l2_pool_strides, ksize=l2_pool_ksize, padding='VALID')\n",
    "\n",
    "    # TODO: Flatten. Input = 5x5x16. Output = 400.\n",
    "    l2_flat = flatten(l2_pool)\n",
    "    \n",
    "    # TODO: Layer 3: Fully Connected. Input = 400. Output = 120.\n",
    "    l3_w = tf.Variable(tf.truncated_normal(shape=(400, 120), mean=mu, stddev=sigma), name='l3_w')\n",
    "    l3_b = tf.Variable(tf.zeros(120), 'l3_b')\n",
    "    l3_fc = tf.add(tf.matmul(l2_flat, l3_w), l3_b)\n",
    "    \n",
    "    # TODO: Activation.\n",
    "    l3_act = tf.nn.relu(l3_fc)\n",
    "    \n",
    "    \n",
    "    # TODO: Layer 4: Fully Connected. Input = 120. Output = 84.\n",
    "    l4_w = tf.Variable(tf.truncated_normal([120, 84], mean=mu, stddev=sigma), name='l4_w')\n",
    "    l4_b = tf.Variable(tf.zeros(84), name='l4_b')\n",
    "    l4_fc = tf.add(tf.matmul(l3_act, l4_w), l4_b)\n",
    "    # TODO: Activation.\n",
    "    l4_act = tf.nn.relu(l4_fc)\n",
    "    l4_drop = tf.nn.dropout(l4_act, dropout)\n",
    "\n",
    "    # TODO: Layer 5: Fully Connected. Input = 84. Output = 43.\n",
    "    l5_w = tf.Variable(tf.truncated_normal([84, 43], mean=mu, stddev=sigma), name='l5_w')\n",
    "    l5_b = tf.Variable(tf.zeros(43), 'l5_b')\n",
    "    logits = tf.add(tf.matmul(l4_drop, l5_w), l5_b)\n",
    "    \n",
    "    return logits"
   ]
  },
  {
   "cell_type": "code",
   "execution_count": 9,
   "metadata": {
    "collapsed": true,
    "deletable": true,
    "editable": true
   },
   "outputs": [],
   "source": [
    "x = tf.placeholder(tf.float32, (None, 32, 32, 3), name='x')\n",
    "y = tf.placeholder(tf.int32, (None), name='y')\n",
    "one_hot_y = tf.one_hot(y, 43, name='one_hot_y')"
   ]
  },
  {
   "cell_type": "code",
   "execution_count": 10,
   "metadata": {
    "collapsed": false,
    "deletable": true,
    "editable": true
   },
   "outputs": [],
   "source": [
    "rate = 0.001\n",
    "dropout = 0.5 # Dropout, probability to keep units\n",
    "\n",
    "dropout_keep = tf.placeholder(tf.float32, name='dropout_keep') \n",
    "\n",
    "logits = LeNet(x, dropout_keep)\n",
    "tf.add_to_collection(\"logits\", logits)\n",
    "cross_entropy = tf.nn.softmax_cross_entropy_with_logits(logits=logits, labels=one_hot_y)\n",
    "loss_operation = tf.reduce_mean(cross_entropy)\n",
    "optimizer = tf.train.AdamOptimizer(learning_rate = rate)\n",
    "training_operation = optimizer.minimize(loss_operation)"
   ]
  },
  {
   "cell_type": "markdown",
   "metadata": {
    "deletable": true,
    "editable": true
   },
   "source": [
    "### Train, Validate and Test the Model"
   ]
  },
  {
   "cell_type": "markdown",
   "metadata": {
    "deletable": true,
    "editable": true
   },
   "source": [
    "A validation set can be used to assess how well the model is performing. A low accuracy on the training and validation\n",
    "sets imply underfitting. A high accuracy on the training set but low accuracy on the validation set implies overfitting."
   ]
  },
  {
   "cell_type": "code",
   "execution_count": 11,
   "metadata": {
    "collapsed": false,
    "deletable": true,
    "editable": true
   },
   "outputs": [],
   "source": [
    "### Train your model here.\n",
    "### Calculate and report the accuracy on the training and validation set.\n",
    "### Once a final model architecture is selected, \n",
    "### the accuracy on the test set should be calculated and reported as well.\n",
    "### Feel free to use as many code cells as needed.\n",
    "correct_prediction = tf.equal(tf.argmax(logits, 1), tf.argmax(one_hot_y, 1))\n",
    "accuracy_operation = tf.reduce_mean(tf.cast(correct_prediction, tf.float32))\n",
    "saver = tf.train.Saver()\n",
    "\n",
    "def evaluate(X_data, y_data):\n",
    "    num_examples = len(X_data)\n",
    "    total_accuracy = 0\n",
    "    sess = tf.get_default_session()\n",
    "    for offset in range(0, num_examples, BATCH_SIZE):\n",
    "        batch_x, batch_y = X_data[offset:offset+BATCH_SIZE], y_data[offset:offset+BATCH_SIZE]\n",
    "        accuracy = sess.run(accuracy_operation, feed_dict={x: batch_x, y: batch_y, dropout_keep: 1.0})\n",
    "        total_accuracy += (accuracy * len(batch_x))\n",
    "    return total_accuracy / num_examples"
   ]
  },
  {
   "cell_type": "code",
   "execution_count": 12,
   "metadata": {
    "collapsed": false,
    "deletable": true,
    "editable": true
   },
   "outputs": [
    {
     "name": "stdout",
     "output_type": "stream",
     "text": [
      "Training...\n",
      "\n",
      "EPOCH 1 ...\n",
      "Validation Accuracy = 0.586\n",
      "\n",
      "EPOCH 2 ...\n",
      "Validation Accuracy = 0.767\n",
      "\n",
      "EPOCH 3 ...\n",
      "Validation Accuracy = 0.830\n",
      "\n",
      "EPOCH 4 ...\n",
      "Validation Accuracy = 0.854\n",
      "\n",
      "EPOCH 5 ...\n",
      "Validation Accuracy = 0.867\n",
      "\n",
      "EPOCH 6 ...\n",
      "Validation Accuracy = 0.898\n",
      "\n",
      "EPOCH 7 ...\n",
      "Validation Accuracy = 0.895\n",
      "\n",
      "EPOCH 8 ...\n",
      "Validation Accuracy = 0.911\n",
      "\n",
      "EPOCH 9 ...\n",
      "Validation Accuracy = 0.911\n",
      "\n",
      "EPOCH 10 ...\n",
      "Validation Accuracy = 0.915\n",
      "\n",
      "EPOCH 11 ...\n",
      "Validation Accuracy = 0.924\n",
      "\n",
      "EPOCH 12 ...\n",
      "Validation Accuracy = 0.908\n",
      "\n",
      "EPOCH 13 ...\n",
      "Validation Accuracy = 0.927\n",
      "\n",
      "EPOCH 14 ...\n",
      "Validation Accuracy = 0.924\n",
      "\n",
      "EPOCH 15 ...\n",
      "Validation Accuracy = 0.920\n",
      "\n",
      "Model saved\n"
     ]
    }
   ],
   "source": [
    "with tf.Session() as sess:\n",
    "    sess.run(tf.global_variables_initializer())\n",
    "    num_examples = len(X_train)\n",
    "    \n",
    "    print(\"Training...\")\n",
    "    print()\n",
    "    for i in range(EPOCHS):\n",
    "        X_train, y_train = shuffle(X_train, y_train)\n",
    "        for offset in range(0, num_examples, BATCH_SIZE):\n",
    "            end = offset + BATCH_SIZE\n",
    "            batch_x, batch_y = X_train[offset:end], y_train[offset:end]\n",
    "            sess.run(training_operation, feed_dict={x: batch_x, y: batch_y, dropout_keep: dropout})\n",
    "            \n",
    "        validation_accuracy = evaluate(X_valid, y_valid)\n",
    "        print(\"EPOCH {} ...\".format(i+1))\n",
    "        print(\"Validation Accuracy = {:.3f}\".format(validation_accuracy))\n",
    "        print()\n",
    "        \n",
    "    saver.save(sess, './lenet')\n",
    "    print(\"Model saved\")"
   ]
  },
  {
   "cell_type": "markdown",
   "metadata": {
    "deletable": true,
    "editable": true
   },
   "source": [
    "---\n",
    "\n",
    "## Step 3: Test a Model on New Images\n",
    "\n",
    "To give yourself more insight into how your model is working, download at least five pictures of German traffic signs from the web and use your model to predict the traffic sign type.\n",
    "\n",
    "You may find `signnames.csv` useful as it contains mappings from the class id (integer) to the actual sign name."
   ]
  },
  {
   "cell_type": "markdown",
   "metadata": {
    "deletable": true,
    "editable": true
   },
   "source": [
    "### Load and Output the Images"
   ]
  },
  {
   "cell_type": "code",
   "execution_count": 13,
   "metadata": {
    "collapsed": false,
    "deletable": true,
    "editable": true
   },
   "outputs": [],
   "source": [
    "%matplotlib inline\n",
    "\n",
    "import matplotlib\n",
    "import numpy as np\n",
    "import matplotlib.pyplot as plt\n",
    "from scipy import misc\n",
    "import os\n",
    "\n",
    "\n",
    "    "
   ]
  },
  {
   "cell_type": "code",
   "execution_count": 14,
   "metadata": {
    "collapsed": false
   },
   "outputs": [
    {
     "name": "stdout",
     "output_type": "stream",
     "text": [
      "3.png\n",
      "4.png\n",
      "2.png\n",
      "6.png\n",
      "1.png\n",
      "5.png\n"
     ]
    },
    {
     "data": {
      "image/png": "[encoded data removed]",
      "text/plain": [
       "<matplotlib.figure.Figure at 0x7fdffedbfdd8>"
      ]
     },
     "metadata": {},
     "output_type": "display_data"
    },
    {
     "data": {
      "image/png": "[encoded data removed]",
      "text/plain": [
       "<matplotlib.figure.Figure at 0x7fdffc487d30>"
      ]
     },
     "metadata": {},
     "output_type": "display_data"
    },
    {
     "data": {
      "image/png": "[encoded data removed]",
      "text/plain": [
       "<matplotlib.figure.Figure at 0x7fdffc493ef0>"
      ]
     },
     "metadata": {},
     "output_type": "display_data"
    },
    {
     "data": {
      "image/png": "[encoded data removed]",
      "text/plain": [
       "<matplotlib.figure.Figure at 0x7fdfec7a2e80>"
      ]
     },
     "metadata": {},
     "output_type": "display_data"
    },
    {
     "data": {
      "image/png": "[encoded data removed]",
      "text/plain": [
       "<matplotlib.figure.Figure at 0x7fdfec774ef0>"
      ]
     },
     "metadata": {},
     "output_type": "display_data"
    },
    {
     "data": {
      "image/png": "[encoded data removed]",
      "text/plain": [
       "<matplotlib.figure.Figure at 0x7fdfec7b3860>"
      ]
     },
     "metadata": {},
     "output_type": "display_data"
    }
   ],
   "source": [
    "def plot_img(img, title=\"\"):\n",
    "    if len(img.shape) == 3 and img.shape[2] == 3:\n",
    "        cmap = 'viridis'\n",
    "    else:\n",
    "        cmap = 'gray'\n",
    "    fig = plt.figure()\n",
    "    t  = fig.text(0.5, 0.95, title,\n",
    "         horizontalalignment='center')\n",
    "    plt.imshow(img, cmap=cmap)\n",
    "\n",
    "DIR = \"./web_images/\"\n",
    "images = []\n",
    "for i in os.listdir(DIR):\n",
    "    print(i)\n",
    "    img = plt.imread(DIR + i)[:,:,:3]\n",
    "    img = misc.imresize(img, size=(32, 32))\n",
    "    plot_img(img)\n",
    "    images.append(img)\n",
    "    \n",
    "   "
   ]
  },
  {
   "cell_type": "markdown",
   "metadata": {
    "deletable": true,
    "editable": true
   },
   "source": [
    "### Predict the Sign Type for Each Image"
   ]
  },
  {
   "cell_type": "code",
   "execution_count": 23,
   "metadata": {
    "collapsed": false,
    "deletable": true,
    "editable": true
   },
   "outputs": [
    {
     "data": {
      "image/png": "[encoded data removed]",
      "text/plain": [
       "<matplotlib.figure.Figure at 0x7fdfc85a3e10>"
      ]
     },
     "metadata": {},
     "output_type": "display_data"
    },
    {
     "data": {
      "image/png": "[encoded data removed]",
      "text/plain": [
       "<matplotlib.figure.Figure at 0x7fe0a8e9c240>"
      ]
     },
     "metadata": {},
     "output_type": "display_data"
    },
    {
     "data": {
      "image/png": "[encoded data removed]",
      "text/plain": [
       "<matplotlib.figure.Figure at 0x7fe0a8e59e80>"
      ]
     },
     "metadata": {},
     "output_type": "display_data"
    },
    {
     "data": {
      "image/png": "[encoded data removed]",
      "text/plain": [
       "<matplotlib.figure.Figure at 0x7fe0a8e2b320>"
      ]
     },
     "metadata": {},
     "output_type": "display_data"
    },
    {
     "data": {
      "image/png": "[encoded data removed]",
      "text/plain": [
       "<matplotlib.figure.Figure at 0x7fe0a8dee390>"
      ]
     },
     "metadata": {},
     "output_type": "display_data"
    },
    {
     "data": {
      "image/png": "[encoded data removed]",
      "text/plain": [
       "<matplotlib.figure.Figure at 0x7fe0a8db97f0>"
      ]
     },
     "metadata": {},
     "output_type": "display_data"
    }
   ],
   "source": [
    "### Run the predictions here and use the model to output the prediction for each image.\n",
    "### Make sure to pre-process the images with the same pre-processing pipeline used earlier.\n",
    "### Feel free to use as many code cells as needed.\n",
    "import tensorflow as tf\n",
    "#x = tf.placeholder(tf.float32, (None, 32, 32, 3))\n",
    "#dropout_keep = tf.placeholder(tf.float32)\n",
    "#logits2 = LeNet(x, dropout_keep)\n",
    "classifier = tf.nn.softmax(logits)\n",
    "\n",
    "with tf.Session() as sess:\n",
    "    new_saver = tf.train.import_meta_graph('./lenet.meta')\n",
    "    new_saver.restore(sess, tf.train.latest_checkpoint('.'))\n",
    "    #restorer = tf.train.Saver(tf.all_variables())\n",
    "    #logits2 = LeNet(x, dropout_keep)\n",
    "    #classifier = tf.nn.softmax(logits2)\n",
    "    #tf.initialize_all_variables()\n",
    "    \n",
    "    for img in images:\n",
    "        classification = sess.run(classifier, feed_dict={x: [img], y: [0], dropout_keep: 1.0})\n",
    "        pred = class_labels.iloc[np.argmax(classification)][\"SignName\"]\n",
    "        plot_img(img, title=pred)\n",
    "    #sess.run(accuracy_operation, feed_dict={x: batch_x, y: batch_y, dropout_keep: 1.0})\n",
    "\n"
   ]
  },
  {
   "cell_type": "markdown",
   "metadata": {
    "deletable": true,
    "editable": true
   },
   "source": [
    "### Analyze Performance"
   ]
  },
  {
   "cell_type": "code",
   "execution_count": 25,
   "metadata": {
    "collapsed": false,
    "deletable": true,
    "editable": true
   },
   "outputs": [],
   "source": [
    "### Calculate the accuracy for these 5 new images. \n",
    "### For example, if the model predicted 1 out of 5 signs correctly, it's 20% accurate on these new images.\n",
    "\n"
   ]
  },
  {
   "cell_type": "markdown",
   "metadata": {
    "deletable": true,
    "editable": true
   },
   "source": [
    "### Output Top 5 Softmax Probabilities For Each Image Found on the Web"
   ]
  },
  {
   "cell_type": "markdown",
   "metadata": {
    "deletable": true,
    "editable": true
   },
   "source": [
    "For each of the new images, print out the model's softmax probabilities to show the **certainty** of the model's predictions (limit the output to the top 5 probabilities for each image). [`tf.nn.top_k`](https://www.tensorflow.org/versions/r0.12/api_docs/python/nn.html#top_k) could prove helpful here. \n",
    "\n",
    "The example below demonstrates how tf.nn.top_k can be used to find the top k predictions for each image.\n",
    "\n",
    "`tf.nn.top_k` will return the values and indices (class ids) of the top k predictions. So if k=3, for each sign, it'll return the 3 largest probabilities (out of a possible 43) and the correspoding class ids.\n",
    "\n",
    "Take this numpy array as an example. The values in the array represent predictions. The array contains softmax probabilities for five candidate images with six possible classes. `tk.nn.top_k` is used to choose the three classes with the highest probability:\n",
    "\n",
    "```\n",
    "# (5, 6) array\n",
    "a = np.array([[ 0.24879643,  0.07032244,  0.12641572,  0.34763842,  0.07893497,\n",
    "         0.12789202],\n",
    "       [ 0.28086119,  0.27569815,  0.08594638,  0.0178669 ,  0.18063401,\n",
    "         0.15899337],\n",
    "       [ 0.26076848,  0.23664738,  0.08020603,  0.07001922,  0.1134371 ,\n",
    "         0.23892179],\n",
    "       [ 0.11943333,  0.29198961,  0.02605103,  0.26234032,  0.1351348 ,\n",
    "         0.16505091],\n",
    "       [ 0.09561176,  0.34396535,  0.0643941 ,  0.16240774,  0.24206137,\n",
    "         0.09155967]])\n",
    "```\n",
    "\n",
    "Running it through `sess.run(tf.nn.top_k(tf.constant(a), k=3))` produces:\n",
    "\n",
    "```\n",
    "TopKV2(values=array([[ 0.34763842,  0.24879643,  0.12789202],\n",
    "       [ 0.28086119,  0.27569815,  0.18063401],\n",
    "       [ 0.26076848,  0.23892179,  0.23664738],\n",
    "       [ 0.29198961,  0.26234032,  0.16505091],\n",
    "       [ 0.34396535,  0.24206137,  0.16240774]]), indices=array([[3, 0, 5],\n",
    "       [0, 1, 4],\n",
    "       [0, 5, 1],\n",
    "       [1, 3, 5],\n",
    "       [1, 4, 3]], dtype=int32))\n",
    "```\n",
    "\n",
    "Looking just at the first row we get `[ 0.34763842,  0.24879643,  0.12789202]`, you can confirm these are the 3 largest probabilities in `a`. You'll also notice `[3, 0, 5]` are the corresponding indices."
   ]
  },
  {
   "cell_type": "code",
   "execution_count": 26,
   "metadata": {
    "collapsed": false,
    "deletable": true,
    "editable": true
   },
   "outputs": [
    {
     "name": "stdout",
     "output_type": "stream",
     "text": [
      "TopKV2(values=array([[ 1.,  0.,  0.,  0.,  0.]], dtype=float32), indices=array([[23,  0,  1,  2,  3]], dtype=int32))\n",
      "TopKV2(values=array([[ 1.,  0.,  0.,  0.,  0.]], dtype=float32), indices=array([[40,  0,  1,  2,  3]], dtype=int32))\n",
      "TopKV2(values=array([[ 1.,  0.,  0.,  0.,  0.]], dtype=float32), indices=array([[1, 0, 2, 3, 4]], dtype=int32))\n",
      "TopKV2(values=array([[ 1.,  0.,  0.,  0.,  0.]], dtype=float32), indices=array([[11,  0,  1,  2,  3]], dtype=int32))\n",
      "TopKV2(values=array([[ 1.,  0.,  0.,  0.,  0.]], dtype=float32), indices=array([[9, 0, 1, 2, 3]], dtype=int32))\n",
      "TopKV2(values=array([[  1.00000000e+00,   1.56290399e-13,   0.00000000e+00,\n",
      "          0.00000000e+00,   0.00000000e+00]], dtype=float32), indices=array([[2, 1, 0, 3, 4]], dtype=int32))\n"
     ]
    }
   ],
   "source": [
    "### Print out the top five softmax probabilities for the predictions on the German traffic sign images found on the web. \n",
    "### Feel free to use as many code cells as needed.\n",
    "top_5 = tf.nn.top_k(classifier, 5)\n",
    "with tf.Session() as sess:\n",
    "    new_saver = tf.train.import_meta_graph('./lenet.meta')\n",
    "    new_saver.restore(sess, tf.train.latest_checkpoint('.'))\n",
    "    #restorer = tf.train.Saver(tf.all_variables())\n",
    "    #logits2 = LeNet(x, dropout_keep)\n",
    "    #classifier = tf.nn.softmax(logits2)\n",
    "    #tf.initialize_all_variables()\n",
    "    \n",
    "    for img in images:\n",
    "        classification = sess.run(top_5, feed_dict={x: [img], y: [0], dropout_keep: 1.0})\n",
    "        #pred = class_labels.iloc[np.argmax(classification)][\"SignName\"]\n",
    "        #plot_img(img, title=pred)\n",
    "        print(classification)\n",
    "    #sess.run(accuracy_operation, feed_dict={x: batch_x, y: batch_y, dropout_keep: 1.0})"
   ]
  },
  {
   "cell_type": "markdown",
   "metadata": {
    "deletable": true,
    "editable": true
   },
   "source": [
    "---\n",
    "\n",
    "## Step 4: Visualize the Neural Network's State with Test Images\n",
    "\n",
    " This Section is not required to complete but acts as an additional excersise for understaning the output of a neural network's weights. While neural networks can be a great learning device they are often referred to as a black box. We can understand what the weights of a neural network look like better by plotting their feature maps. After successfully training your neural network you can see what it's feature maps look like by plotting the output of the network's weight layers in response to a test stimuli image. From these plotted feature maps, it's possible to see what characteristics of an image the network finds interesting. For a sign, maybe the inner network feature maps react with high activation to the sign's boundary outline or to the contrast in the sign's painted symbol.\n",
    "\n",
    " Provided for you below is the function code that allows you to get the visualization output of any tensorflow weight layer you want. The inputs to the function should be a stimuli image, one used during training or a new one you provided, and then the tensorflow variable name that represents the layer's state during the training process, for instance if you wanted to see what the [LeNet lab's](https://classroom.udacity.com/nanodegrees/nd013/parts/fbf77062-5703-404e-b60c-95b78b2f3f9e/modules/6df7ae49-c61c-4bb2-a23e-6527e69209ec/lessons/601ae704-1035-4287-8b11-e2c2716217ad/concepts/d4aca031-508f-4e0b-b493-e7b706120f81) feature maps looked like for it's second convolutional layer you could enter conv2 as the tf_activation variable.\n",
    "\n",
    "For an example of what feature map outputs look like, check out NVIDIA's results in their paper [End-to-End Deep Learning for Self-Driving Cars](https://devblogs.nvidia.com/parallelforall/deep-learning-self-driving-cars/) in the section Visualization of internal CNN State. NVIDIA was able to show that their network's inner weights had high activations to road boundary lines by comparing feature maps from an image with a clear path to one without. Try experimenting with a similar test to show that your trained network's weights are looking for interesting features, whether it's looking at differences in feature maps from images with or without a sign, or even what feature maps look like in a trained network vs a completely untrained one on the same sign image.\n",
    "\n",
    "<figure>\n",
    " <img src=\"visualize_cnn.png\" width=\"380\" alt=\"Combined Image\" />\n",
    " <figcaption>\n",
    " <p></p> \n",
    " <p style=\"text-align: center;\"> Your output should look something like this (above)</p> \n",
    " </figcaption>\n",
    "</figure>\n",
    " <p></p> \n"
   ]
  },
  {
   "cell_type": "code",
   "execution_count": 18,
   "metadata": {
    "collapsed": true,
    "deletable": true,
    "editable": true
   },
   "outputs": [],
   "source": [
    "### Visualize your network's feature maps here.\n",
    "### Feel free to use as many code cells as needed.\n",
    "\n",
    "# image_input: the test image being fed into the network to produce the feature maps\n",
    "# tf_activation: should be a tf variable name used during your training procedure that represents the calculated state of a specific weight layer\n",
    "# activation_min/max: can be used to view the activation contrast in more detail, by default matplot sets min and max to the actual min and max values of the output\n",
    "# plt_num: used to plot out multiple different weight feature map sets on the same block, just extend the plt number for each new feature map entry\n",
    "\n",
    "def outputFeatureMap(image_input, tf_activation, activation_min=-1, activation_max=-1 ,plt_num=1):\n",
    "    # Here make sure to preprocess your image_input in a way your network expects\n",
    "    # with size, normalization, ect if needed\n",
    "    # image_input =\n",
    "    # Note: x should be the same name as your network's tensorflow data placeholder variable\n",
    "    # If you get an error tf_activation is not defined it maybe having trouble accessing the variable from inside a function\n",
    "    activation = tf_activation.eval(session=sess,feed_dict={x : image_input})\n",
    "    featuremaps = activation.shape[3]\n",
    "    plt.figure(plt_num, figsize=(15,15))\n",
    "    for featuremap in range(featuremaps):\n",
    "        plt.subplot(6,8, featuremap+1) # sets the number of feature maps to show on each row and column\n",
    "        plt.title('FeatureMap ' + str(featuremap)) # displays the feature map number\n",
    "        if activation_min != -1 & activation_max != -1:\n",
    "            plt.imshow(activation[0,:,:, featuremap], interpolation=\"nearest\", vmin =activation_min, vmax=activation_max, cmap=\"gray\")\n",
    "        elif activation_max != -1:\n",
    "            plt.imshow(activation[0,:,:, featuremap], interpolation=\"nearest\", vmax=activation_max, cmap=\"gray\")\n",
    "        elif activation_min !=-1:\n",
    "            plt.imshow(activation[0,:,:, featuremap], interpolation=\"nearest\", vmin=activation_min, cmap=\"gray\")\n",
    "        else:\n",
    "            plt.imshow(activation[0,:,:, featuremap], interpolation=\"nearest\", cmap=\"gray\")"
   ]
  },
  {
   "cell_type": "markdown",
   "metadata": {
    "deletable": true,
    "editable": true
   },
   "source": [
    "### Question 9\n",
    "\n",
    "Discuss how you used the visual output of your trained network's feature maps to show that it had learned to look for interesting characteristics in traffic sign images\n"
   ]
  },
  {
   "cell_type": "markdown",
   "metadata": {
    "deletable": true,
    "editable": true
   },
   "source": [
    "**Answer:**"
   ]
  },
  {
   "cell_type": "markdown",
   "metadata": {
    "deletable": true,
    "editable": true
   },
   "source": [
    "> **Note**: Once you have completed all of the code implementations and successfully answered each question above, you may finalize your work by exporting the iPython Notebook as an HTML document. You can do this by using the menu above and navigating to  \\n\",\n",
    "    \"**File -> Download as -> HTML (.html)**. Include the finished document along with this notebook as your submission."
   ]
  },
  {
   "cell_type": "markdown",
   "metadata": {
    "deletable": true,
    "editable": true
   },
   "source": [
    "### Project Writeup\n",
    "\n",
    "Once you have completed the code implementation, document your results in a project writeup using this [template](https://github.com/udacity/CarND-Traffic-Sign-Classifier-Project/blob/master/writeup_template.md) as a guide. The writeup can be in a markdown or pdf file. "
   ]
  }
 ],
 "metadata": {
  "anaconda-cloud": {},
  "kernelspec": {
   "display_name": "Python 3",
   "language": "python",
   "name": "python3"
  },
  "language_info": {
   "codemirror_mode": {
    "name": "ipython",
    "version": 3
   },
   "file_extension": ".py",
   "mimetype": "text/x-python",
   "name": "python",
   "nbconvert_exporter": "python",
   "pygments_lexer": "ipython3",
   "version": "3.5.2"
  }
 },
 "nbformat": 4,
 "nbformat_minor": 1
}
